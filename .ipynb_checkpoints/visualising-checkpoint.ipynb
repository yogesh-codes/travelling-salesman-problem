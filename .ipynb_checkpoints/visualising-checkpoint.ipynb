{
 "cells": [
  {
   "cell_type": "code",
   "execution_count": null,
   "id": "d9e0c2d7",
   "metadata": {},
   "outputs": [],
   "source": [
    "import heapq\n",
    "from itertools import combinations\n",
    "import matplotlib.pyplot as plt\n",
    "import numpy as np"
   ]
  },
  {
   "cell_type": "code",
   "execution_count": null,
   "id": "e242cc99",
   "metadata": {},
   "outputs": [],
   "source": []
  },
  {
   "cell_type": "raw",
   "id": "933e6c41",
   "metadata": {},
   "source": []
  },
  {
   "cell_type": "code",
   "execution_count": null,
   "id": "e8c1ffe7",
   "metadata": {},
   "outputs": [],
   "source": [
    "class Node():\n",
    "    def __init__(self,ID,name,x,y):\n",
    "        self.ID\n",
    "        self.name=name\n",
    "        self.x=x\n",
    "        self.y=y\n",
    "        self.h=float('inf')\n",
    "        \n",
    "    def update_heuristic(self,dest):\n",
    "        self.h=(((dest.x-self.x)**2 + (dest.y-self.y)**2)**.5)\n",
    "        "
   ]
  },
  {
   "cell_type": "code",
   "execution_count": 17,
   "id": "14d8aa11",
   "metadata": {
    "ExecuteTime": {
     "end_time": "2024-02-23T02:33:58.349940Z",
     "start_time": "2024-02-23T02:33:58.306095Z"
    },
    "scrolled": false
   },
   "outputs": [
    {
     "ename": "IndexError",
     "evalue": "list assignment index out of range",
     "output_type": "error",
     "traceback": [
      "\u001b[1;31m---------------------------------------------------------------------------\u001b[0m",
      "\u001b[1;31mIndexError\u001b[0m                                Traceback (most recent call last)",
      "Cell \u001b[1;32mIn[17], line 78\u001b[0m\n\u001b[0;32m     75\u001b[0m \u001b[38;5;66;03m# Example cities with distances. In a real scenario, this could be an adjacency matrix or distance matrix.\u001b[39;00m\n\u001b[0;32m     76\u001b[0m a\u001b[38;5;241m=\u001b[39mGraph(df)\n\u001b[1;32m---> 78\u001b[0m \u001b[43ma\u001b[49m\u001b[38;5;241;43m.\u001b[39;49m\u001b[43mcalculate_distances\u001b[49m\u001b[43m(\u001b[49m\u001b[43m)\u001b[49m\n\u001b[0;32m     79\u001b[0m a\u001b[38;5;241m.\u001b[39mplot_graph()\n",
      "Cell \u001b[1;32mIn[17], line 25\u001b[0m, in \u001b[0;36mGraph.calculate_distances\u001b[1;34m(self)\u001b[0m\n\u001b[0;32m     21\u001b[0m \u001b[38;5;28;01mfor\u001b[39;00m city_i,city_j \u001b[38;5;129;01min\u001b[39;00m combinations(\u001b[38;5;28mself\u001b[39m\u001b[38;5;241m.\u001b[39mcities[\u001b[38;5;124m'\u001b[39m\u001b[38;5;124mID\u001b[39m\u001b[38;5;124m'\u001b[39m],\u001b[38;5;241m2\u001b[39m):\n\u001b[0;32m     22\u001b[0m     \n\u001b[0;32m     23\u001b[0m     \u001b[38;5;66;03m#print (i.node_id,i.name,\"and\",j.node_id,j.name)\u001b[39;00m\n\u001b[0;32m     24\u001b[0m     d\u001b[38;5;241m=\u001b[39mGraph\u001b[38;5;241m.\u001b[39mcalculate_euclidean_distance((\u001b[38;5;28mself\u001b[39m\u001b[38;5;241m.\u001b[39mcities[\u001b[38;5;124m'\u001b[39m\u001b[38;5;124mx\u001b[39m\u001b[38;5;124m'\u001b[39m][city_i],\u001b[38;5;28mself\u001b[39m\u001b[38;5;241m.\u001b[39mcities[\u001b[38;5;124m'\u001b[39m\u001b[38;5;124my\u001b[39m\u001b[38;5;124m'\u001b[39m][city_i]),(\u001b[38;5;28mself\u001b[39m\u001b[38;5;241m.\u001b[39mcities[\u001b[38;5;124m'\u001b[39m\u001b[38;5;124mx\u001b[39m\u001b[38;5;124m'\u001b[39m][city_j],\u001b[38;5;28mself\u001b[39m\u001b[38;5;241m.\u001b[39mcities[\u001b[38;5;124m'\u001b[39m\u001b[38;5;124my\u001b[39m\u001b[38;5;124m'\u001b[39m][city_j]))\n\u001b[1;32m---> 25\u001b[0m     \u001b[38;5;28;43mself\u001b[39;49m\u001b[38;5;241;43m.\u001b[39;49m\u001b[43mmatrix\u001b[49m\u001b[43m[\u001b[49m\u001b[43mcity_i\u001b[49m\u001b[43m]\u001b[49m\u001b[43m[\u001b[49m\u001b[43mcity_j\u001b[49m\u001b[43m]\u001b[49m\u001b[38;5;241m=\u001b[39md\n\u001b[0;32m     26\u001b[0m     \u001b[38;5;28mself\u001b[39m\u001b[38;5;241m.\u001b[39mmatrix[city_j][city_i]\u001b[38;5;241m=\u001b[39md\n\u001b[0;32m     27\u001b[0m     \u001b[38;5;66;03m#print(f\"distance between them is {d}\")\u001b[39;00m\n",
      "\u001b[1;31mIndexError\u001b[0m: list assignment index out of range"
     ]
    }
   ],
   "source": [
    "\n",
    "    \n",
    "class Graph():\n",
    "    def __init__(self,df):\n",
    "        self.cities=dict(df) #{location:[\"chennai\",\"trichy\"],x:[100,200],y:[...]}\n",
    "        self.matrix=None\n",
    "    #def add_node(self,name,x,y):\n",
    "    #    node=Node(id_=len(self.nodes),name=name,x=x,y=y)\n",
    "    #    self.nodes.append(node)\n",
    "    \n",
    "    def calculate_distances(self):\n",
    "        for i in self.cities:\n",
    "            print(i)\n",
    "        \n",
    "        \n",
    "        '''\n",
    "        self.matrix=[[float('inf') for w1 in range(len(self.nodes))]for w2 in range(len(self.nodes))]\n",
    "        \n",
    "        for i,j in combinations(self.nodes,2):\n",
    "            #print (i.node_id,i.name,\"and\",j.node_id,j.name)\n",
    "            d=Graph.calculate_euclidean_distance((i.x,i.y),(j.x,j.y))\n",
    "            self.matrix[i.node_id][j.node_id]=d\n",
    "            self.matrix[j.node_id][i.node_id]=d\n",
    "            #print(f\"distance between them is {d}\")\n",
    "        \n",
    "        self.display_adjacency_matrix()\n",
    "        \n",
    "        '''\n",
    "        \n",
    "    def display_adjacency_matrix(self):\n",
    "        for i in range(len(self.nodes)):\n",
    "            self.matrix[i][i]=0\n",
    "            \n",
    "        city_labels=[i.name for i in self.nodes]\n",
    "        display(pd.DataFrame(self.matrix,index=city_labels,columns=city_labels))\n",
    "    \n",
    "    def plot_graph(self):\n",
    "        plt.figure(figsize=(6,10))\n",
    "        \n",
    "        # display img first\n",
    "        map_width=860\n",
    "        map_height=1109\n",
    "        im = plt.imread(\"map.png\")\n",
    "        plt.imshow(im,extent=(0,map_width,0,map_height))\n",
    "\n",
    "        # now plot\n",
    "        \n",
    "        X=df[\"x\"]\n",
    "        Y=df[\"y\"]\n",
    "        labels=df.index\n",
    "        \n",
    "\n",
    "        for node in self.nodes:\n",
    "            X.append(node.x)\n",
    "            Y.append(map_height-node.y)\n",
    "            labels.append(node.name)\n",
    "            \n",
    "        plt.scatter(X,Y)\n",
    "        \n",
    "        for i, label in enumerate(labels):\n",
    "            plt.text(X[i], Y[i], label, fontsize=8, ha='center', va='bottom', \n",
    "                     bbox=dict(facecolor='white', alpha=0.85, edgecolor='none', boxstyle='round,pad=0.5'))\n",
    "        plt.axis(False)\n",
    "        plt.show()\n",
    "    \n",
    "    @staticmethod\n",
    "    def calculate_euclidean_distance(coord1,coord2):\n",
    "        x1,y1=coord1\n",
    "        x2,y2=coord2\n",
    "        return (329/512.403162)*(((x2-x1)**2 + (y2-y1)**2)**.5)\n",
    "    \n",
    "        \n",
    "\n",
    "a=Graph(df)\n",
    "\n",
    "a.calculate_distances()\n",
    "a.plot_graph()"
   ]
  },
  {
   "cell_type": "code",
   "execution_count": null,
   "id": "a93c3ce2",
   "metadata": {},
   "outputs": [],
   "source": []
  },
  {
   "cell_type": "code",
   "execution_count": null,
   "id": "82872201",
   "metadata": {},
   "outputs": [],
   "source": []
  },
  {
   "cell_type": "code",
   "execution_count": null,
   "id": "e26f3a91",
   "metadata": {},
   "outputs": [],
   "source": []
  }
 ],
 "metadata": {
  "kernelspec": {
   "display_name": "Python 3 (ipykernel)",
   "language": "python",
   "name": "python3"
  },
  "language_info": {
   "codemirror_mode": {
    "name": "ipython",
    "version": 3
   },
   "file_extension": ".py",
   "mimetype": "text/x-python",
   "name": "python",
   "nbconvert_exporter": "python",
   "pygments_lexer": "ipython3",
   "version": "3.9.18"
  },
  "toc": {
   "base_numbering": 1,
   "nav_menu": {},
   "number_sections": true,
   "sideBar": true,
   "skip_h1_title": false,
   "title_cell": "Table of Contents",
   "title_sidebar": "Contents",
   "toc_cell": false,
   "toc_position": {},
   "toc_section_display": true,
   "toc_window_display": false
  }
 },
 "nbformat": 4,
 "nbformat_minor": 5
}
