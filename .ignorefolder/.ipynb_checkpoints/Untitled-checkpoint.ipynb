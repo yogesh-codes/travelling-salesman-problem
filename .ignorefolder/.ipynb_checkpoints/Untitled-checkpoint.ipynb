{
 "cells": [
  {
   "cell_type": "code",
   "execution_count": null,
   "id": "1d883d20",
   "metadata": {},
   "outputs": [],
   "source": [
    "\n",
    "for i in all_path_infos:\n",
    "    start,goal,pathway=i['start'],i['goal'],i['pathway']\n",
    "    \n",
    "    fig, ax = plt.subplots(figsize=(3, 3))\n",
    "    ax.imshow(grid, cmap='Greys_r', origin='upper')\n",
    "\n",
    "    # Mark the path\n",
    "    for step in pathway:\n",
    "        ax.scatter(step[0], step[1], marker='*', color='blue', s=10)\n",
    "\n",
    "    # Mark the start and goal positions\n",
    "    ax.scatter(start[0], start[1], marker='*', color='green', s=20)\n",
    "    ax.scatter(goal[0], goal[1], marker='*', color='red', s=20)\n",
    "    ax.set_title(f\"From {start} to {goal}- distance={len(pathway)-1}\")\n",
    "    plt.show()"
   ]
  }
 ],
 "metadata": {
  "kernelspec": {
   "display_name": "Python 3 (ipykernel)",
   "language": "python",
   "name": "python3"
  },
  "language_info": {
   "codemirror_mode": {
    "name": "ipython",
    "version": 3
   },
   "file_extension": ".py",
   "mimetype": "text/x-python",
   "name": "python",
   "nbconvert_exporter": "python",
   "pygments_lexer": "ipython3",
   "version": "3.9.18"
  },
  "toc": {
   "base_numbering": 1,
   "nav_menu": {},
   "number_sections": true,
   "sideBar": true,
   "skip_h1_title": false,
   "title_cell": "Table of Contents",
   "title_sidebar": "Contents",
   "toc_cell": false,
   "toc_position": {},
   "toc_section_display": true,
   "toc_window_display": false
  }
 },
 "nbformat": 4,
 "nbformat_minor": 5
}
