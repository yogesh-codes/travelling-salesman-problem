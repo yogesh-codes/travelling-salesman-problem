{
 "cells": [
  {
   "cell_type": "code",
   "execution_count": 42,
   "id": "0cdede21",
   "metadata": {
    "ExecuteTime": {
     "end_time": "2024-02-29T03:18:05.950083Z",
     "start_time": "2024-02-29T03:18:05.939968Z"
    }
   },
   "outputs": [],
   "source": [
    "import numpy as np\n",
    "import heapq\n",
    "from ortools.constraint_solver import routing_enums_pb2\n",
    "from ortools.constraint_solver import pywrapcp\n",
    "from icecream import ic\n",
    "\n",
    "class Node():\n",
    "    def __init__(self,parent=None, position=None):\n",
    "        self.parent=parent\n",
    "        self.position=position\n",
    "        self.g=0\n",
    "        self.h=0\n",
    "        self.f=0\n",
    "\n",
    "    def __eq__(self,other):\n",
    "        return self.position==other.position\n",
    "\n",
    "    def __lt__(self, other):\n",
    "        return self.f< other.f\n"
   ]
  },
  {
   "cell_type": "code",
   "execution_count": 43,
   "id": "8c6617fa",
   "metadata": {
    "ExecuteTime": {
     "end_time": "2024-02-29T03:18:06.295901Z",
     "start_time": "2024-02-29T03:18:06.277062Z"
    }
   },
   "outputs": [],
   "source": [
    "\n",
    "def a_star(start, goal, grid):\n",
    "    ic(f\"using a* to figure shortest distance bw {start} and {goal}\")\n",
    "    start_node = Node(parent=None, position=tuple(start))\n",
    "    goal_node = Node(parent=None, position=tuple(goal))\n",
    "    open_list = []\n",
    "    closed_list = []\n",
    "    heapq.heappush(open_list, (start_node.f, start_node))\n",
    "\n",
    "    while open_list:\n",
    "        current_node = heapq.heappop(open_list)[1]\n",
    "        if current_node == goal_node: # implicitly comparing x and y coordinates of both nodes\n",
    "            return current_node.g\n",
    "\n",
    "        children = []\n",
    "        for new_position in [(0, -1), (0, 1), (-1, 0), (1, 0)]:\n",
    "            node_position = (current_node.position[0] + new_position[0], current_node.position[1] + new_position[1])\n",
    "\n",
    "            if node_position[0] > (len(grid) - 1) or node_position[0] < 0 or node_position[1] > (len(grid[0]) - 1) or node_position[1] < 0:\n",
    "                continue\n",
    "            if grid[node_position[0]][node_position[1]] != 0:\n",
    "                continue\n",
    "\n",
    "            new_node = Node(current_node, node_position)\n",
    "            children.append(new_node)\n",
    "\n",
    "        for child in children:\n",
    "            if child in closed_list:\n",
    "                continue\n",
    "\n",
    "            child.g = current_node.g + 1\n",
    "            child.h = abs(child.position[0] - goal_node.position[0]) + abs(child.position[1] - goal_node.position[1])\n",
    "            child.f = child.g + child.h\n",
    "\n",
    "            if any(child == open_node[1] and child.g > open_node[1].g for open_node in open_list):\n",
    "                continue\n",
    "            heapq.heappush(open_list, (child.f, child))\n",
    "\n",
    "        closed_list.append(current_node)\n",
    "\n",
    "    return float('inf')\n"
   ]
  },
  {
   "cell_type": "code",
   "execution_count": 44,
   "id": "fbc7fbe5",
   "metadata": {
    "ExecuteTime": {
     "end_time": "2024-02-29T03:18:06.467066Z",
     "start_time": "2024-02-29T03:18:06.456790Z"
    }
   },
   "outputs": [],
   "source": [
    "\n",
    "def create_distance_matrix(waypoints, grid):\n",
    "    n = len(waypoints)\n",
    "    distance_matrix = [[0 for _ in range(n)] for _ in range(n)]\n",
    "    for i in range(n):\n",
    "        for j in range(n):\n",
    "            if i != j:\n",
    "                distance_matrix[i][j] = a_star(waypoints[i], waypoints[j], grid)\n",
    "    return distance_matrix\n"
   ]
  },
  {
   "cell_type": "code",
   "execution_count": 47,
   "id": "0a0b3aa7",
   "metadata": {
    "ExecuteTime": {
     "end_time": "2024-02-29T03:41:44.684877Z",
     "start_time": "2024-02-29T03:41:44.671151Z"
    }
   },
   "outputs": [],
   "source": [
    "\n",
    "def solve_tsp(distance_matrix):\n",
    "    manager = pywrapcp.RoutingIndexManager(len(distance_matrix), 1, 0)\n",
    "    routing = pywrapcp.RoutingModel(manager)\n",
    "\n",
    "    def distance_callback(from_index, to_index):\n",
    "        # Convert routing variable indices to distance matrix indices.\n",
    "        from_node = manager.IndexToNode(from_index)\n",
    "        to_node = manager.IndexToNode(to_index)\n",
    "        return distance_matrix[from_node][to_node]\n",
    "        \n",
    "    transit_callback_index = routing.RegisterTransitCallback(distance_callback)\n",
    "    routing.SetArcCostEvaluatorOfAllVehicles(transit_callback_index)\n",
    "    search_parameters = pywrapcp.DefaultRoutingSearchParameters()\n",
    "    search_parameters.first_solution_strategy = routing_enums_pb2.FirstSolutionStrategy.PATH_CHEAPEST_ARC\n",
    "\n",
    "    solution = routing.Solve()\n",
    "    if solution:\n",
    "        index = routing.Start(0)\n",
    "        plan_output = 'Route:\\n'\n",
    "        route_distance = 0\n",
    "        while not routing.IsEnd(index):\n",
    "            plan_output += ' {} ->'.format(manager.IndexToNode(index))\n",
    "            previous_index = index\n",
    "            index = solution.Value(routing.NextVar(index))\n",
    "            route_distance += routing.GetArcCostForVehicle(previous_index, index, 0)\n",
    "        plan_output += ' {}\\n'.format(manager.IndexToNode(index))\n",
    "        print(plan_output)\n",
    "        print('Route distance: {}'.format(route_distance))\n"
   ]
  },
  {
   "cell_type": "code",
   "execution_count": 48,
   "id": "cc4165db",
   "metadata": {
    "ExecuteTime": {
     "end_time": "2024-02-29T03:41:46.087418Z",
     "start_time": "2024-02-29T03:41:45.413886Z"
    }
   },
   "outputs": [
    {
     "name": "stderr",
     "output_type": "stream",
     "text": [
      "ic| grid: [[0, 0, 0, 0, 0, 0, 0, 0, 0, 0],\n",
      "           [0, 0, 0, 0, 0, 0, 0, 0, 0, 0],\n",
      "           [0, 0, 0, 0, 0, 0, 0, 0, 0, 0],\n",
      "           [0, 0, 0, 0, 0, 0, 0, 0, 0, 0],\n",
      "           [0, 0, 0, 0, 0, 0, 0, 0, 0, 0],\n",
      "           [0, 0, 0, 0, 0, 0, 0, 0, 0, 0],\n",
      "           [0, 0, 0, 0, 0, 0, 0, 0, 0, 0],\n",
      "           [0, 0, 0, 0, 0, 0, 0, 0, 0, 0],\n",
      "           [0, 0, 0, 0, 0, 0, 0, 0, 0, 0],\n",
      "           [0, 0, 0, 0, 0, 0, 0, 0, 0, 0]]\n",
      "ic| f\"using a* to figure shortest distance bw {start} and {goal}\": 'using a* to figure shortest distance bw (0, 0) and (2, 5)'\n",
      "ic| f\"using a* to figure shortest distance bw {start} and {goal}\": 'using a* to figure shortest distance bw (0, 0) and (5, 2)'\n",
      "ic| f\"using a* to figure shortest distance bw {start} and {goal}\": 'using a* to figure shortest distance bw (0, 0) and (7, 8)'\n",
      "ic| f\"using a* to figure shortest distance bw {start} and {goal}\": 'using a* to figure shortest distance bw (2, 5) and (0, 0)'\n",
      "ic| f\"using a* to figure shortest distance bw {start} and {goal}\": 'using a* to figure shortest distance bw (2, 5) and (5, 2)'\n",
      "ic| f\"using a* to figure shortest distance bw {start} and {goal}\": 'using a* to figure shortest distance bw (2, 5) and (7, 8)'\n",
      "ic| f\"using a* to figure shortest distance bw {start} and {goal}\": 'using a* to figure shortest distance bw (5, 2) and (0, 0)'\n",
      "ic| f\"using a* to figure shortest distance bw {start} and {goal}\": 'using a* to figure shortest distance bw (5, 2) and (2, 5)'\n",
      "ic| f\"using a* to figure shortest distance bw {start} and {goal}\": 'using a* to figure shortest distance bw (5, 2) and (7, 8)'\n",
      "ic| f\"using a* to figure shortest distance bw {start} and {goal}\": 'using a* to figure shortest distance bw (7, 8) and (0, 0)'\n",
      "ic| f\"using a* to figure shortest distance bw {start} and {goal}\": 'using a* to figure shortest distance bw (7, 8) and (2, 5)'\n",
      "ic| f\"using a* to figure shortest distance bw {start} and {goal}\": 'using a* to figure shortest distance bw (7, 8) and (5, 2)'\n",
      "ic| grid: [[0, 0, 0, 0, 0, 0, 0, 0, 0, 0],\n",
      "           [0, 0, 0, 0, 0, 0, 0, 0, 0, 0],\n",
      "           [0, 0, 0, 0, 0, 0, 0, 0, 0, 0],\n",
      "           [0, 0, 0, 0, 0, 0, 0, 0, 0, 0],\n",
      "           [0, 0, 0, 0, 0, 0, 0, 0, 0, 0],\n",
      "           [0, 0, 0, 0, 0, 0, 0, 0, 0, 0],\n",
      "           [0, 0, 0, 0, 0, 0, 0, 0, 0, 0],\n",
      "           [0, 0, 0, 0, 0, 0, 0, 0, 0, 0],\n",
      "           [0, 0, 0, 0, 0, 0, 0, 0, 0, 0],\n",
      "           [0, 0, 0, 0, 0, 0, 0, 0, 0, 0]]\n",
      "ic| distance_matrix: [[0, 7, 7, 15], [7, 0, 6, 8], [7, 6, 0, 8], [15, 8, 8, 0]]\n"
     ]
    },
    {
     "name": "stdout",
     "output_type": "stream",
     "text": [
      "Route:\n",
      " 0 -> 2 -> 3 -> 1 -> 0\n",
      "\n",
      "Route distance: 30\n"
     ]
    }
   ],
   "source": [
    "\n",
    "# Example grid (0 represents free path and 1 represents obstacle)\n",
    "grid_size = 10\n",
    "grid = [[0 for _ in range(grid_size)] for _ in range(grid_size)]\n",
    "ic(grid)\n",
    "\n",
    "# Define waypoints as tuples (x, y) within the grid bounds\n",
    "waypoints = [(0, 0), (2, 5), (5, 2), (7, 8)]\n",
    "\n",
    "# Create distance matrix using A* for each pair of waypoints\n",
    "distance_matrix = create_distance_matrix(waypoints, grid)\n",
    "ic(grid)\n",
    "ic (distance_matrix)\n",
    "# Solve TSP\n",
    "solve_tsp(distance_matrix)"
   ]
  },
  {
   "cell_type": "code",
   "execution_count": null,
   "id": "d7a17749",
   "metadata": {},
   "outputs": [],
   "source": []
  },
  {
   "cell_type": "code",
   "execution_count": null,
   "id": "8473a437",
   "metadata": {},
   "outputs": [],
   "source": []
  }
 ],
 "metadata": {
  "kernelspec": {
   "display_name": "Python 3 (ipykernel)",
   "language": "python",
   "name": "python3"
  },
  "language_info": {
   "codemirror_mode": {
    "name": "ipython",
    "version": 3
   },
   "file_extension": ".py",
   "mimetype": "text/x-python",
   "name": "python",
   "nbconvert_exporter": "python",
   "pygments_lexer": "ipython3",
   "version": "3.9.18"
  },
  "toc": {
   "base_numbering": 1,
   "nav_menu": {},
   "number_sections": true,
   "sideBar": true,
   "skip_h1_title": false,
   "title_cell": "Table of Contents",
   "title_sidebar": "Contents",
   "toc_cell": false,
   "toc_position": {},
   "toc_section_display": true,
   "toc_window_display": false
  }
 },
 "nbformat": 4,
 "nbformat_minor": 5
}
