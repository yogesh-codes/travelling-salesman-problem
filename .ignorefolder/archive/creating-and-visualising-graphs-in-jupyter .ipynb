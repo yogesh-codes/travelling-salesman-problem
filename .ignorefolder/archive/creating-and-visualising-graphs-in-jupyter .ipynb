{
 "cells": [
  {
   "cell_type": "raw",
   "id": "1ca1bb6a",
   "metadata": {},
   "source": [
    "meta\n",
    "date- 21.2.24"
   ]
  },
  {
   "cell_type": "code",
   "execution_count": 5,
   "id": "15a5bec8",
   "metadata": {
    "ExecuteTime": {
     "end_time": "2024-02-20T19:24:23.499135Z",
     "start_time": "2024-02-20T19:24:23.364272Z"
    }
   },
   "outputs": [
    {
     "data": {
      "text/plain": [
       "<matplotlib.collections.PathCollection at 0x1d6eb7fd1c0>"
      ]
     },
     "execution_count": 5,
     "metadata": {},
     "output_type": "execute_result"
    },
    {
     "data": {
      "image/png": "[encoded data removed]",
      "text/plain": [
       "<Figure size 640x480 with 1 Axes>"
      ]
     },
     "metadata": {},
     "output_type": "display_data"
    }
   ],
   "source": [
    "import matplotlib.pyplot as plt\n",
    "\n",
    "plt.scatter((2,3),(2,5),(3,3))"
   ]
  },
  {
   "cell_type": "code",
   "execution_count": 12,
   "id": "b66531c7",
   "metadata": {
    "ExecuteTime": {
     "end_time": "2024-02-20T20:14:10.038508Z",
     "start_time": "2024-02-20T20:14:10.023795Z"
    }
   },
   "outputs": [],
   "source": [
    "import heapq\n",
    "import numpy as np\n",
    "\n",
    "\n",
    "class Node:\n",
    "    \"\"\"Represents a node in the graph.\"\"\"\n",
    "    def __init__(self,*,name,coord):\n",
    "        self.name = name\n",
    "        self.x,self.y=coord\n",
    "        self.neighbors = {}  # Dictionary to hold neighbors and their costs\n",
    "\n",
    "    def add_neighbor(self, neighbor, cost=1):\n",
    "        self.neighbors[neighbor] = cost\n",
    "\n",
    "class Graph:\n",
    "    \"\"\"Represents a directed graph.\"\"\"\n",
    "    def __init__(self):\n",
    "        self.nodes = {}\n",
    "\n",
    "    def add_node(self, node):\n",
    "        self.nodes[node.name] = node\n",
    "\n",
    "    def add_edge(self, from_node, to_node, cost=1):\n",
    "        if from_node in self.nodes and to_node in self.nodes:\n",
    "            self.nodes[from_node].add_neighbor(self.nodes[to_node], cost)\n",
    "    def print_all_edges():\n",
    "        adjacency_matrix=np.zeros(len(self.nodes),len(self.nodes))\n",
    "        \n",
    "        for i,a in enumerate (self.nodes):\n",
    "            adj\n",
    "\n",
    "def h(node, goal):\n",
    "    \"\"\"Heuristic function that estimates the cost from node to goal.\"\"\"\n",
    "    # This is a placeholder. Replace it with an appropriate heuristic for your problem.\n",
    "    return abs(node.name - goal.name)\n",
    "\n",
    "def a_star(graph, start, goal):\n",
    "    open_set = []\n",
    "    heapq.heappush(open_set, (0, start))  # Priority queue of (f_score, node)\n",
    "    came_from = {}  # Dict to track the best path to a node\n",
    "\n",
    "    g_score = {node: float('inf') for node in graph.nodes.values()}\n",
    "    g_score[start] = 0\n",
    "\n",
    "    f_score = {node: float('inf') for node in graph.nodes.values()}\n",
    "    f_score[start] = h(start, goal)\n",
    "\n",
    "    while open_set:\n",
    "        current = heapq.heappop(open_set)[1]  # Get the node with the lowest f_score\n",
    "\n",
    "        if current == goal:\n",
    "            return reconstruct_path(came_from, current)\n",
    "\n",
    "        for neighbor, cost in current.neighbors.items():\n",
    "            tentative_g_score = g_score[current] + cost\n",
    "            if tentative_g_score < g_score[neighbor]:\n",
    "                came_from[neighbor] = current\n",
    "                g_score[neighbor] = tentative_g_score\n",
    "                f_score[neighbor] = tentative_g_score + h(neighbor, goal)\n",
    "                if neighbor not in [i[1] for i in open_set]:\n",
    "                    heapq.heappush(open_set, (f_score[neighbor], neighbor))\n",
    "\n",
    "    return False\n",
    "\n",
    "def reconstruct_path(came_from, current):\n",
    "    \"\"\"Reconstructs the path from start to goal.\"\"\"\n",
    "    total_path = [current]\n",
    "    while current in came_from:\n",
    "        current = came_from[current]\n",
    "        total_path.insert(0, current)\n",
    "    return total_path\n"
   ]
  },
  {
   "cell_type": "code",
   "execution_count": 16,
   "id": "7e0adde4",
   "metadata": {
    "ExecuteTime": {
     "end_time": "2024-02-20T20:21:25.293415Z",
     "start_time": "2024-02-20T20:21:25.278987Z"
    }
   },
   "outputs": [],
   "source": [
    "from itertools import permutations\n",
    "cities=[Node(name=\"Chennai\",coord=(10,20)),\n",
    "        Node(name=\"Trichy\",coord=(1,0)),\n",
    "        Node(name=\"Madurai\",coord=(3,5))]\n",
    "\n",
    "# Create a simple graph for demonstration (replace with your graph)\n",
    "graph = Graph()\n",
    "for _ in cities:\n",
    "    graph.add_node(_)\n",
    "\n",
    "for a,b in permutations(cities,2):\n",
    "    graph.add_edge(a,b)\n",
    "    \n",
    "    "
   ]
  },
  {
   "cell_type": "code",
   "execution_count": null,
   "id": "50434847",
   "metadata": {},
   "outputs": [],
   "source": [
    "\n",
    "    # Assume nodes are created and added to the graph\n",
    "    # Assume edges are added with their costs\n",
    "    start = graph.nodes['Chennai']  # Replace with your start node\n",
    "    goal = graph.nodes['Trichy']  # Replace with your goal node\n",
    "\n",
    "    path = a_star(graph, start, goal)\n",
    "    if path:\n",
    "        print(\"Path found:\", \" -> \".join(node.name for node in path))\n",
    "    else:\n",
    "        print(\"No path found.\")\n"
   ]
  }
 ],
 "metadata": {
  "kernelspec": {
   "display_name": "Python 3 (ipykernel)",
   "language": "python",
   "name": "python3"
  },
  "language_info": {
   "codemirror_mode": {
    "name": "ipython",
    "version": 3
   },
   "file_extension": ".py",
   "mimetype": "text/x-python",
   "name": "python",
   "nbconvert_exporter": "python",
   "pygments_lexer": "ipython3",
   "version": "3.9.18"
  },
  "toc": {
   "base_numbering": 1,
   "nav_menu": {},
   "number_sections": true,
   "sideBar": true,
   "skip_h1_title": false,
   "title_cell": "Table of Contents",
   "title_sidebar": "Contents",
   "toc_cell": false,
   "toc_position": {},
   "toc_section_display": true,
   "toc_window_display": false
  }
 },
 "nbformat": 4,
 "nbformat_minor": 5
}
